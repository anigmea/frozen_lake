{
 "cells": [
  {
   "cell_type": "code",
   "execution_count": 6,
   "id": "e8430e9a-620b-43c4-af4e-56a1c32a1c8b",
   "metadata": {},
   "outputs": [],
   "source": [
    "import gym\n",
    "import numpy as np\n",
    "import time\n",
    "import random"
   ]
  },
  {
   "cell_type": "code",
   "execution_count": 7,
   "id": "978e6792-9b25-4b89-af5f-c2bd8bb436d9",
   "metadata": {},
   "outputs": [],
   "source": [
    "env = gym.make('FrozenLake-v1', render_mode='ansi')"
   ]
  },
  {
   "cell_type": "code",
   "execution_count": 8,
   "id": "92f25371-4213-4c34-baee-c3ca181d2259",
   "metadata": {},
   "outputs": [
    {
     "name": "stdout",
     "output_type": "stream",
     "text": [
      "[[0. 0. 0. 0.]\n",
      " [0. 0. 0. 0.]\n",
      " [0. 0. 0. 0.]\n",
      " [0. 0. 0. 0.]\n",
      " [0. 0. 0. 0.]\n",
      " [0. 0. 0. 0.]\n",
      " [0. 0. 0. 0.]\n",
      " [0. 0. 0. 0.]\n",
      " [0. 0. 0. 0.]\n",
      " [0. 0. 0. 0.]\n",
      " [0. 0. 0. 0.]\n",
      " [0. 0. 0. 0.]\n",
      " [0. 0. 0. 0.]\n",
      " [0. 0. 0. 0.]\n",
      " [0. 0. 0. 0.]\n",
      " [0. 0. 0. 0.]]\n"
     ]
    }
   ],
   "source": [
    "action_space_size = env.action_space.n\n",
    "observation_state_size = env.observation_space.n\n",
    "\n",
    "Q_table = np.zeros((observation_state_size,action_space_size))\n",
    "print(Q_table)"
   ]
  },
  {
   "cell_type": "code",
   "execution_count": 9,
   "id": "fa82c950-705e-495c-9300-ff2dae46dfdd",
   "metadata": {},
   "outputs": [],
   "source": [
    "num_episodes = 20000\n",
    "max_steps_per_episode = 400\n",
    "\n",
    "learning_rate = 0.1\n",
    "discount_rate = 0.99\n",
    "\n",
    "exploration_rate = 1\n",
    "max_exploration_rate = 1\n",
    "min_exploration_rate = 0.01\n",
    "exploration_decay_rate = 0.001"
   ]
  },
  {
   "cell_type": "code",
   "execution_count": 12,
   "id": "929aa47b-7da0-4109-b0ef-048f1cae7ffd",
   "metadata": {},
   "outputs": [],
   "source": [
    "rewards_all_episodes = []\n",
    "for episode in range(num_episodes):\n",
    "    state = env.reset()[0]\n",
    "    done = False\n",
    "    rewards_current_episode = 0\n",
    "\n",
    "    for step in range(max_steps_per_episode):\n",
    "        exploraiton_rate_threshold = random.uniform(0,1)\n",
    "        if exploraiton_rate_threshold > exploration_rate:\n",
    "            action = np.argmax(Q_table[state,:])\n",
    "        else:\n",
    "            action = env.action_space.sample()\n",
    "        new_state,reward,done,truncated,info = env.step(action)\n",
    "        Q_table[state, action] = Q_table[state, action]*(1-learning_rate) + learning_rate * (reward + discount_rate * np.max(Q_table[new_state,:]))\n",
    "        state = new_state\n",
    "        rewards_current_episode += reward\n",
    "\n",
    "        if done:\n",
    "            break\n",
    "\n",
    "    exploration_rate = min_exploration_rate + (max_exploration_rate - min_exploration_rate) * np.exp(-exploration_decay_rate*episode)\n",
    "    rewards_all_episodes.append(rewards_current_episode)"
   ]
  },
  {
   "cell_type": "code",
   "execution_count": 13,
   "id": "3a4803ca-6b4b-44ff-9537-aab173ef38db",
   "metadata": {},
   "outputs": [
    {
     "name": "stdout",
     "output_type": "stream",
     "text": [
      "********Average reward per thousand episodes********\n",
      "\n",
      "1000 :  0.05200000000000004\n",
      "2000 :  0.20700000000000016\n",
      "3000 :  0.45300000000000035\n",
      "4000 :  0.5840000000000004\n",
      "5000 :  0.7220000000000005\n",
      "6000 :  0.7520000000000006\n",
      "7000 :  0.7400000000000005\n",
      "8000 :  0.7450000000000006\n",
      "9000 :  0.7610000000000006\n",
      "10000 :  0.7700000000000006\n",
      "11000 :  0.7850000000000006\n",
      "12000 :  0.7470000000000006\n",
      "13000 :  0.7820000000000006\n",
      "14000 :  0.7450000000000006\n",
      "15000 :  0.7550000000000006\n",
      "16000 :  0.7430000000000005\n",
      "17000 :  0.7530000000000006\n",
      "18000 :  0.7490000000000006\n",
      "19000 :  0.7680000000000006\n",
      "20000 :  0.7620000000000006\n"
     ]
    }
   ],
   "source": [
    "rewards_per_thousand_episodes = np.split(np.array(rewards_all_episodes),num_episodes/1000)\n",
    "count = 1000\n",
    "\n",
    "print(\"********Average reward per thousand episodes********\\n\")\n",
    "for r in rewards_per_thousand_episodes:\n",
    "    print(count, \": \", str(sum(r/1000)))\n",
    "    count += 1000\n"
   ]
  },
  {
   "cell_type": "code",
   "execution_count": null,
   "id": "cb633c56-320a-4e24-b123-3689875c11e3",
   "metadata": {},
   "outputs": [],
   "source": []
  },
  {
   "cell_type": "code",
   "execution_count": null,
   "id": "3f0fa002-b782-4911-9733-1ab3e361395b",
   "metadata": {},
   "outputs": [],
   "source": []
  }
 ],
 "metadata": {
  "kernelspec": {
   "display_name": "Python 3 (ipykernel)",
   "language": "python",
   "name": "python3"
  },
  "language_info": {
   "codemirror_mode": {
    "name": "ipython",
    "version": 3
   },
   "file_extension": ".py",
   "mimetype": "text/x-python",
   "name": "python",
   "nbconvert_exporter": "python",
   "pygments_lexer": "ipython3",
   "version": "3.9.6"
  }
 },
 "nbformat": 4,
 "nbformat_minor": 5
}
